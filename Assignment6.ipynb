{
  "nbformat": 4,
  "nbformat_minor": 0,
  "metadata": {
    "colab": {
      "name": "Assignment6.ipynb",
      "provenance": [],
      "collapsed_sections": [],
      "authorship_tag": "ABX9TyP/ZZOcujl26tTiTjU4v8uT",
      "include_colab_link": true
    },
    "kernelspec": {
      "name": "python3",
      "display_name": "Python 3"
    },
    "language_info": {
      "name": "python"
    }
  },
  "cells": [
    {
      "cell_type": "markdown",
      "metadata": {
        "id": "view-in-github",
        "colab_type": "text"
      },
      "source": [
        "<a href=\"https://colab.research.google.com/github/josephmascot/Le-Comfort-Properties/blob/master/Assignment6.ipynb\" target=\"_parent\"><img src=\"https://colab.research.google.com/assets/colab-badge.svg\" alt=\"Open In Colab\"/></a>"
      ]
    },
    {
      "cell_type": "code",
      "metadata": {
        "colab": {
          "base_uri": "https://localhost:8080/"
        },
        "id": "hWc0l--4Sz6t",
        "outputId": "137a78a7-b08c-4f6b-d50c-61fb1e68fc08"
      },
      "source": [
        "import awoc\n",
        "world = awoc.AWOC()\n",
        "africa=world.get_countries_list_of('Africa') #getting African countries\n",
        "\n",
        "# get student details\n",
        "def student_data():\n",
        "  student_data.firstname= input(\"Enter Student's First Name: \")\n",
        "  student_data.lastname =  input(\"Enter Student's Last Name: \")\n",
        "  student_data.gender = input(\"Enter Student's Gender: \")\n",
        "  student_data.student_id = input(\"Enter Student's ID: \")\n",
        "  student_data.student_email = input(\"Enter Student email address: \")\n",
        "  student_data.phone= input(\"Students phone Number: \")\n",
        "  student_data.country= input(\"Enter country of origin: \")\n",
        "  student_data.city = input(\"Enter city: \")\n",
        "  student_data.mailing_address= input(\"Enter mailing Address: \")\n",
        "  \n",
        "# calculate student scores\n",
        "def average_scores():\n",
        "  average_scores.scores=[] \n",
        "  for quiz in range(1,4):\n",
        "    quiz_score = int(input(f\"Enter Quiz {quiz} scores: \"))\n",
        "    average_scores.scores.append(quiz_score)\n",
        "  for test in range(1,3):\n",
        "    test_score= int(input(f\"Enter Test {test} scores: \"))\n",
        "    average_scores.scores.append(test_score)  \n",
        "  average_scores.assignment=int(input(\"The student did how many programming assignments? \"))\n",
        "  average_scores.zoomcall_attendance=int(input(\"How many Zoom meeting did the student attend? \"))\n",
        "  total_scores=sum(average_scores.scores)\n",
        "  Total_exams=len(average_scores.scores)\n",
        "  average_scores.average=total_scores/Total_exams\n",
        "  return average_scores.average\n",
        "\n",
        "# check if student met minimum requiremnt\n",
        "def scholarship_qualification_check():\n",
        "  status=\" \"\n",
        "  if student_data.country.title() in africa:\n",
        "    if student_data.gender.lower() == \"male\":\n",
        "      if average_scores.average>=80 and average_scores.assignment>=10 and  average_scores.zoomcall_attendance==3:\n",
        "        scholarship_qualification_check.status = (f\"{student_data.firstname.title()} has met the minimum criteria for the scholarship qualification\")\n",
        "      else:\n",
        "        scholarship_qualification_check.status= (\"Student does not meet minimum requirement for the scholarship award.\")\n",
        "    elif student_data.gender.lower() == \"female\":\n",
        "      if average_scores.average>=76 and average_scores.assignment>=10 and  average_scores.zoomcall_attendance>=3:\n",
        "        scholarship_qualification_check.status = (f\"{student_data.firstname.title()} has met the minimum criteria for the scholarship qualification\")\n",
        "      else:\n",
        "        scholarship_qualification_check.status = (f\"{student_data.firstname.title()} does not meet minimum requirement for the scholarship award.\")\n",
        "  else:\n",
        "    scholarship_qualification_check.status=f\"{student_data.firstname.title()} is not African, hence doesn't qualify for this scholarship!\"\n",
        "  return scholarship_qualification_check.status\n",
        "\n",
        "def scholarships_award():\n",
        "  student_data()\n",
        "  average_scores()\n",
        "  scholarship_qualification_check()\n",
        "  print(\" \")\n",
        "  print(\"SCHOLARSHIP AWARD FEEDBACK\".center(60,\"=\"))\n",
        "  print(\" \")\n",
        "  print(f\"Section A: Student BioData\".center(60, \"=\"))\n",
        "  print(f\"Student Fullname: {student_data.firstname.title()} {student_data.lastname.title()}\")\n",
        "  print(f\"Gender: {student_data.gender}\")\n",
        "  print(f\"Student ID Number: {student_data.student_id}\")\n",
        "  print(f\"Email Address: {student_data.student_email}\")\n",
        "  print(f\"Phone Number: {student_data.phone}\")\n",
        "  print(f\"Place of Origin: {student_data.city.title()},{student_data.country.title()}\")\n",
        "  print(f\"Mailing address: {student_data.mailing_address}\")\n",
        "  print(\" \")\n",
        "  print(f\"Section B: Scores\".center(60, \"=\"))\n",
        "  print(f\"Average Scores: {average_scores.average}%\")\n",
        "  print(f\"Zoom Meeting Score: {average_scores.zoomcall_attendance*3}\")\n",
        "  print(f\"Programming Assignment score: {average_scores.assignment} Points\")\n",
        "  print(\" \")\n",
        "  print(f\"Section C: Status\".center(60, \"=\"))\n",
        "  print(f\"Status: {scholarship_qualification_check.status}\")\n",
        "\n",
        "scholarships_award()\n"
      ],
      "execution_count": 50,
      "outputs": [
        {
          "output_type": "stream",
          "text": [
            "Enter Student's First Name: joe\n",
            "Enter Student's Last Name: doe\n",
            "Enter Student's Gender: male\n",
            "Enter Student's ID: 45667\n",
            "Enter Student email address: joe@gmail.com\n",
            "Students phone Number: 07136778884\n",
            "Enter country of origin: kenya\n",
            "Enter city: kisumu\n",
            "Enter mailing Address: 14,kisumu\n",
            "Enter Quiz 1 scores: 90\n",
            "Enter Quiz 2 scores: 90\n",
            "Enter Quiz 3 scores: 98\n",
            "Enter Test 1 scores: 100\n",
            "Enter Test 2 scores: 87\n",
            "The student did how many programming assignments? 10\n",
            "How many Zoom meeting did the student attend? 3\n",
            " \n",
            "=================SCHOLARSHIP AWARD FEEDBACK=================\n",
            " \n",
            "=================Section A: Student BioData=================\n",
            "Student Fullname: Joe Doe\n",
            "Gender: male\n",
            "Student ID Number: 45667\n",
            "Email Address: joe@gmail.com\n",
            "Phone Number: 07136778884\n",
            "Place of Origin: Kisumu,Kenya\n",
            "Mailing address: <built-in method title of str object at 0x7fac380f7b30>\n",
            " \n",
            "=====================Section B: Scores======================\n",
            "Average Scores: 93.0%\n",
            "Zoom Meeting Score: 9\n",
            "Programming Assignment score: 10 Points\n",
            " \n",
            "=====================Section C: Status======================\n",
            "Status: joe has met the minimum criteria for the scholarship qualification\n"
          ],
          "name": "stdout"
        }
      ]
    }
  ]
}